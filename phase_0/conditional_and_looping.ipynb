{
  "nbformat": 4,
  "nbformat_minor": 0,
  "metadata": {
    "colab": {
      "name": "conditional_and_looping.ipynb",
      "provenance": []
    },
    "kernelspec": {
      "name": "python3",
      "display_name": "Python 3"
    },
    "language_info": {
      "name": "python"
    }
  },
  "cells": [
    {
      "cell_type": "code",
      "execution_count": null,
      "metadata": {
        "id": "5bsUJpYUxOEZ"
      },
      "outputs": [],
      "source": [
        " angka = 15\n",
        " print(\"isi variabel angka adalah\", angka)\n",
        " if angka < 10:\n",
        "  print(f\"{angka} lebih kecil dari 10\")\n",
        "  print(\"masih if\")\n",
        "print(\"diluar if\")"
      ]
    },
    {
      "cell_type": "code",
      "source": [
        "angka = 15\n",
        " print(\"isi variabel angka adalah\", angka)\n",
        " if angka < 10:\n",
        "  print(f\"{angka} lebih kecil dari 10\")\n",
        "else:\n",
        "  print(angka, \"lebih kecil dari 10\")\n"
      ],
      "metadata": {
        "colab": {
          "base_uri": "https://localhost:8080/",
          "height": 130
        },
        "id": "76fx99scx04s",
        "outputId": "4586dab8-8112-42b6-8a30-cae3aea5d200"
      },
      "execution_count": null,
      "outputs": [
        {
          "output_type": "error",
          "ename": "IndentationError",
          "evalue": "ignored",
          "traceback": [
            "\u001b[0;36m  File \u001b[0;32m\"<ipython-input-39-daaf20e11ee7>\"\u001b[0;36m, line \u001b[0;32m2\u001b[0m\n\u001b[0;31m    print(\"isi variabel angka adalah\", angka)\u001b[0m\n\u001b[0m    ^\u001b[0m\n\u001b[0;31mIndentationError\u001b[0m\u001b[0;31m:\u001b[0m unexpected indent\n"
          ]
        }
      ]
    },
    {
      "cell_type": "code",
      "source": [
        "\n",
        "\n",
        "if (a%2)==0:\n",
        "  print(\"genap\")\n",
        "else(a%2)==1:\n",
        "  print(\"ganjil\")"
      ],
      "metadata": {
        "colab": {
          "base_uri": "https://localhost:8080/",
          "height": 130
        },
        "id": "WEUguClo4oOF",
        "outputId": "b821d3cc-0064-4f56-b7e0-69f5094ca9a5"
      },
      "execution_count": null,
      "outputs": [
        {
          "output_type": "error",
          "ename": "SyntaxError",
          "evalue": "ignored",
          "traceback": [
            "\u001b[0;36m  File \u001b[0;32m\"<ipython-input-44-4506c8843a9a>\"\u001b[0;36m, line \u001b[0;32m5\u001b[0m\n\u001b[0;31m    else(a%2)==1:\u001b[0m\n\u001b[0m        ^\u001b[0m\n\u001b[0;31mSyntaxError\u001b[0m\u001b[0;31m:\u001b[0m invalid syntax\n"
          ]
        }
      ]
    },
    {
      "cell_type": "code",
      "source": [
        "angka=print(float(input(\"masukan nilai:\")))\n",
        "angka=eval(angka)\n",
        "if angka >=85:\n",
        "  print(\"grade A\")\n",
        "elif angka >=65:\n",
        "  print(\"grade B\")\n",
        "elif angka >=50:\n",
        "  print(\"grade c\")\n",
        "elif angka >=25:\n",
        "  print(\"grade D\")\n",
        "else:\n",
        "  print(\"grade E\")"
      ],
      "metadata": {
        "id": "O17gsIWe7Eww"
      },
      "execution_count": null,
      "outputs": []
    },
    {
      "cell_type": "code",
      "source": [
        "angka =5\n",
        "angka"
      ],
      "metadata": {
        "id": "BO17JoGq_VuD"
      },
      "execution_count": null,
      "outputs": []
    },
    {
      "cell_type": "code",
      "source": [
        "angka=angka-1\n",
        "angka"
      ],
      "metadata": {
        "colab": {
          "base_uri": "https://localhost:8080/"
        },
        "id": "FZyPaQiyAYV1",
        "outputId": "2096a17f-8790-48f8-eabd-982926478f97"
      },
      "execution_count": 56,
      "outputs": [
        {
          "output_type": "execute_result",
          "data": {
            "text/plain": [
              "4"
            ]
          },
          "metadata": {},
          "execution_count": 56
        }
      ]
    },
    {
      "cell_type": "code",
      "source": [
        "angka -= 1\n",
        "angka"
      ],
      "metadata": {
        "colab": {
          "base_uri": "https://localhost:8080/"
        },
        "id": "QlJqPrZqAgDM",
        "outputId": "725321fc-4a26-4191-efc7-b9fc1730e379"
      },
      "execution_count": 62,
      "outputs": [
        {
          "output_type": "execute_result",
          "data": {
            "text/plain": [
              "3"
            ]
          },
          "metadata": {},
          "execution_count": 62
        }
      ]
    },
    {
      "cell_type": "code",
      "source": [
        "angka +=2\n",
        "angka"
      ],
      "metadata": {
        "colab": {
          "base_uri": "https://localhost:8080/"
        },
        "id": "2YDQEiqQAn9U",
        "outputId": "69b05a91-a48c-4b5a-84d3-19923ddfa73f"
      },
      "execution_count": 63,
      "outputs": [
        {
          "output_type": "execute_result",
          "data": {
            "text/plain": [
              "5"
            ]
          },
          "metadata": {},
          "execution_count": 63
        }
      ]
    },
    {
      "cell_type": "code",
      "source": [
        "ulang=3\n",
        "while ulang>0:\n",
        "  print(\"arsan\")\n",
        "  ulang -=1\n"
      ],
      "metadata": {
        "colab": {
          "base_uri": "https://localhost:8080/"
        },
        "id": "DGwOvonqA1Ef",
        "outputId": "5012a14b-4f1e-48f2-c6df-2dc7f8930323"
      },
      "execution_count": 70,
      "outputs": [
        {
          "output_type": "stream",
          "name": "stdout",
          "text": [
            "arsan\n",
            "arsan\n",
            "arsan\n"
          ]
        }
      ]
    },
    {
      "cell_type": "code",
      "source": [
        "angka=print(float(input(\"masukan nilai:\")))\n",
        "\n",
        "if (angka >=85):\n",
        "  print(\"grade A\")\n",
        "elif(angka >=65):\n",
        "  print(\"grade B\")\n",
        "elif(angka >=50):\n",
        "  print(\"grade c\")\n",
        "elif(angka >=25):\n",
        "  print(\"grade D\")\n",
        "else:\n",
        "  print(\"grade E\")"
      ],
      "metadata": {
        "id": "KGnwJ15vBRga"
      },
      "execution_count": null,
      "outputs": []
    },
    {
      "cell_type": "code",
      "source": [
        "#tabel perkalian 7\n",
        "i =1\n",
        "while i<=10\n",
        "print(f\"{7} x {i}={7*i}\")\n",
        "i +=1"
      ],
      "metadata": {
        "colab": {
          "base_uri": "https://localhost:8080/",
          "height": 130
        },
        "id": "JUGOGX-JBxl7",
        "outputId": "2b696200-bc9a-48d7-a581-4dd169b64964"
      },
      "execution_count": 73,
      "outputs": [
        {
          "output_type": "error",
          "ename": "SyntaxError",
          "evalue": "ignored",
          "traceback": [
            "\u001b[0;36m  File \u001b[0;32m\"<ipython-input-73-3cb57f751c74>\"\u001b[0;36m, line \u001b[0;32m3\u001b[0m\n\u001b[0;31m    while i<=10\u001b[0m\n\u001b[0m               ^\u001b[0m\n\u001b[0;31mSyntaxError\u001b[0m\u001b[0;31m:\u001b[0m invalid syntax\n"
          ]
        }
      ]
    },
    {
      "cell_type": "code",
      "source": [
        "pesanan = []\n",
        "while pesanan_input != 'cukup':\n",
        "    pesanan_input = input (\"Apa pesanan anda?\")\n",
        "    pesanan.append(pesanan_input)\n",
        "print(pesanan)\n"
      ],
      "metadata": {
        "colab": {
          "base_uri": "https://localhost:8080/",
          "height": 235
        },
        "id": "Dttd3_lQC9t-",
        "outputId": "e8bd5324-8892-4db9-e08b-ab76a5eecefb"
      },
      "execution_count": 75,
      "outputs": [
        {
          "output_type": "error",
          "ename": "NameError",
          "evalue": "ignored",
          "traceback": [
            "\u001b[0;31m---------------------------------------------------------------------------\u001b[0m",
            "\u001b[0;31mNameError\u001b[0m                                 Traceback (most recent call last)",
            "\u001b[0;32m<ipython-input-75-68dd82e5241c>\u001b[0m in \u001b[0;36m<module>\u001b[0;34m()\u001b[0m\n\u001b[1;32m      1\u001b[0m \u001b[0mpesanan\u001b[0m \u001b[0;34m=\u001b[0m \u001b[0;34m[\u001b[0m\u001b[0;34m]\u001b[0m\u001b[0;34m\u001b[0m\u001b[0;34m\u001b[0m\u001b[0m\n\u001b[0;32m----> 2\u001b[0;31m \u001b[0;32mwhile\u001b[0m \u001b[0mpesanan_input\u001b[0m \u001b[0;34m!=\u001b[0m \u001b[0;34m'cukup'\u001b[0m\u001b[0;34m:\u001b[0m\u001b[0;34m\u001b[0m\u001b[0;34m\u001b[0m\u001b[0m\n\u001b[0m\u001b[1;32m      3\u001b[0m     \u001b[0mpesanan_input\u001b[0m \u001b[0;34m=\u001b[0m \u001b[0minput\u001b[0m \u001b[0;34m(\u001b[0m\u001b[0;34m\"Apa pesanan anda?\"\u001b[0m\u001b[0;34m)\u001b[0m\u001b[0;34m\u001b[0m\u001b[0;34m\u001b[0m\u001b[0m\n\u001b[1;32m      4\u001b[0m     \u001b[0mpesanan\u001b[0m\u001b[0;34m.\u001b[0m\u001b[0mappend\u001b[0m\u001b[0;34m(\u001b[0m\u001b[0mpesanan_input\u001b[0m\u001b[0;34m)\u001b[0m\u001b[0;34m\u001b[0m\u001b[0;34m\u001b[0m\u001b[0m\n\u001b[1;32m      5\u001b[0m \u001b[0mprint\u001b[0m\u001b[0;34m(\u001b[0m\u001b[0mpesanan\u001b[0m\u001b[0;34m)\u001b[0m\u001b[0;34m\u001b[0m\u001b[0;34m\u001b[0m\u001b[0m\n",
            "\u001b[0;31mNameError\u001b[0m: name 'pesanan_input' is not defined"
          ]
        }
      ]
    },
    {
      "cell_type": "code",
      "source": [
        "daftar_pesanan = []\n",
        "pesanan = \"\"\n",
        "while pesanan != \"cukup\":\n",
        "    pesanan = input(\"masukkan pesanan: \")\n",
        "    if(pesanan != \"cukup\"):\n",
        "        daftar_pesanan.append(pesanan)\n",
        "for x in daftar_pesanan:\n",
        "    print(x)\n"
      ],
      "metadata": {
        "colab": {
          "base_uri": "https://localhost:8080/"
        },
        "id": "OuzfRLA2Emcl",
        "outputId": "e0fa1358-fd39-4f1e-9565-1130ad9ea7d8"
      },
      "execution_count": 76,
      "outputs": [
        {
          "output_type": "stream",
          "name": "stdout",
          "text": [
            "masukkan pesanan: ayam\n",
            "masukkan pesanan: kecap\n",
            "masukkan pesanan: mie\n",
            "masukkan pesanan: kacang\n",
            "masukkan pesanan: kuah\n",
            "masukkan pesanan: lopa\n",
            "masukkan pesanan: cukup\n",
            "ayam\n",
            "kecap\n",
            "mie\n",
            "kacang\n",
            "kuah\n",
            "lopa\n"
          ]
        }
      ]
    },
    {
      "cell_type": "code",
      "source": [
        "i= 1\n",
        "j=1\n",
        "while i <=10:\n",
        "  while j <=10:\n",
        "    print(f\"{i} x {j} ={i*j}\")\n",
        "    j+=1\n",
        "  print()\n",
        "  j=1\n",
        "  i +=1"
      ],
      "metadata": {
        "colab": {
          "base_uri": "https://localhost:8080/"
        },
        "id": "KIAifW0cBhrk",
        "outputId": "f94df6fd-97bc-47e1-d9af-7584da6ede95"
      },
      "execution_count": 77,
      "outputs": [
        {
          "output_type": "stream",
          "name": "stdout",
          "text": [
            "1 x 1 =1\n",
            "1 x 2 =2\n",
            "1 x 3 =3\n",
            "1 x 4 =4\n",
            "1 x 5 =5\n",
            "1 x 6 =6\n",
            "1 x 7 =7\n",
            "1 x 8 =8\n",
            "1 x 9 =9\n",
            "1 x 10 =10\n",
            "\n",
            "2 x 1 =2\n",
            "2 x 2 =4\n",
            "2 x 3 =6\n",
            "2 x 4 =8\n",
            "2 x 5 =10\n",
            "2 x 6 =12\n",
            "2 x 7 =14\n",
            "2 x 8 =16\n",
            "2 x 9 =18\n",
            "2 x 10 =20\n",
            "\n",
            "3 x 1 =3\n",
            "3 x 2 =6\n",
            "3 x 3 =9\n",
            "3 x 4 =12\n",
            "3 x 5 =15\n",
            "3 x 6 =18\n",
            "3 x 7 =21\n",
            "3 x 8 =24\n",
            "3 x 9 =27\n",
            "3 x 10 =30\n",
            "\n",
            "4 x 1 =4\n",
            "4 x 2 =8\n",
            "4 x 3 =12\n",
            "4 x 4 =16\n",
            "4 x 5 =20\n",
            "4 x 6 =24\n",
            "4 x 7 =28\n",
            "4 x 8 =32\n",
            "4 x 9 =36\n",
            "4 x 10 =40\n",
            "\n",
            "5 x 1 =5\n",
            "5 x 2 =10\n",
            "5 x 3 =15\n",
            "5 x 4 =20\n",
            "5 x 5 =25\n",
            "5 x 6 =30\n",
            "5 x 7 =35\n",
            "5 x 8 =40\n",
            "5 x 9 =45\n",
            "5 x 10 =50\n",
            "\n",
            "6 x 1 =6\n",
            "6 x 2 =12\n",
            "6 x 3 =18\n",
            "6 x 4 =24\n",
            "6 x 5 =30\n",
            "6 x 6 =36\n",
            "6 x 7 =42\n",
            "6 x 8 =48\n",
            "6 x 9 =54\n",
            "6 x 10 =60\n",
            "\n",
            "7 x 1 =7\n",
            "7 x 2 =14\n",
            "7 x 3 =21\n",
            "7 x 4 =28\n",
            "7 x 5 =35\n",
            "7 x 6 =42\n",
            "7 x 7 =49\n",
            "7 x 8 =56\n",
            "7 x 9 =63\n",
            "7 x 10 =70\n",
            "\n",
            "8 x 1 =8\n",
            "8 x 2 =16\n",
            "8 x 3 =24\n",
            "8 x 4 =32\n",
            "8 x 5 =40\n",
            "8 x 6 =48\n",
            "8 x 7 =56\n",
            "8 x 8 =64\n",
            "8 x 9 =72\n",
            "8 x 10 =80\n",
            "\n",
            "9 x 1 =9\n",
            "9 x 2 =18\n",
            "9 x 3 =27\n",
            "9 x 4 =36\n",
            "9 x 5 =45\n",
            "9 x 6 =54\n",
            "9 x 7 =63\n",
            "9 x 8 =72\n",
            "9 x 9 =81\n",
            "9 x 10 =90\n",
            "\n",
            "10 x 1 =10\n",
            "10 x 2 =20\n",
            "10 x 3 =30\n",
            "10 x 4 =40\n",
            "10 x 5 =50\n",
            "10 x 6 =60\n",
            "10 x 7 =70\n",
            "10 x 8 =80\n",
            "10 x 9 =90\n",
            "10 x 10 =100\n",
            "\n"
          ]
        }
      ]
    },
    {
      "cell_type": "code",
      "source": [
        "buah=[\"pepaya \", \"semangka\",\"mangga\", \"jambu\"]\n",
        "for x in buah:\n",
        "  print(x)"
      ],
      "metadata": {
        "colab": {
          "base_uri": "https://localhost:8080/"
        },
        "id": "BMD7fJY8Gz2P",
        "outputId": "17cff7aa-5d3a-4d47-95cd-c9b879100fa1"
      },
      "execution_count": 78,
      "outputs": [
        {
          "output_type": "stream",
          "name": "stdout",
          "text": [
            "pepaya \n",
            "semangka\n",
            "mangga\n",
            "jambu\n"
          ]
        }
      ]
    },
    {
      "cell_type": "code",
      "source": [
        "#range\n",
        "list(range(1,10,2))"
      ],
      "metadata": {
        "colab": {
          "base_uri": "https://localhost:8080/"
        },
        "id": "8jbzsKENHksi",
        "outputId": "41204834-b486-4fb6-a500-c8f073e03ba7"
      },
      "execution_count": 83,
      "outputs": [
        {
          "output_type": "execute_result",
          "data": {
            "text/plain": [
              "[1, 3, 5, 7, 9]"
            ]
          },
          "metadata": {},
          "execution_count": 83
        }
      ]
    },
    {
      "cell_type": "code",
      "source": [
        "for i in range(1,11):\n",
        "  print(f\"{7} x {i} ={7*1}\")"
      ],
      "metadata": {
        "colab": {
          "base_uri": "https://localhost:8080/"
        },
        "id": "QIPzZBB8JMym",
        "outputId": "942b95bd-2526-4dcb-c62b-1ab9439e4266"
      },
      "execution_count": 84,
      "outputs": [
        {
          "output_type": "stream",
          "name": "stdout",
          "text": [
            "7 x 1 =7\n",
            "7 x 2 =7\n",
            "7 x 3 =7\n",
            "7 x 4 =7\n",
            "7 x 5 =7\n",
            "7 x 6 =7\n",
            "7 x 7 =7\n",
            "7 x 8 =7\n",
            "7 x 9 =7\n",
            "7 x 10 =7\n"
          ]
        }
      ]
    },
    {
      "cell_type": "code",
      "source": [
        "for i in range(1, 11):\n",
        "  for j in range(1,11):\n",
        "    print(f\"{i} x {j} = {i*j}\")\n",
        "  print(\"==============\")"
      ],
      "metadata": {
        "colab": {
          "base_uri": "https://localhost:8080/"
        },
        "id": "43hc1Ek0Jy1k",
        "outputId": "b2341fae-e835-44b1-f386-fc8ba51c0dbc"
      },
      "execution_count": 87,
      "outputs": [
        {
          "output_type": "stream",
          "name": "stdout",
          "text": [
            "1 x 1 = 1\n",
            "1 x 2 = 2\n",
            "1 x 3 = 3\n",
            "1 x 4 = 4\n",
            "1 x 5 = 5\n",
            "1 x 6 = 6\n",
            "1 x 7 = 7\n",
            "1 x 8 = 8\n",
            "1 x 9 = 9\n",
            "1 x 10 = 10\n",
            "==============\n",
            "2 x 1 = 2\n",
            "2 x 2 = 4\n",
            "2 x 3 = 6\n",
            "2 x 4 = 8\n",
            "2 x 5 = 10\n",
            "2 x 6 = 12\n",
            "2 x 7 = 14\n",
            "2 x 8 = 16\n",
            "2 x 9 = 18\n",
            "2 x 10 = 20\n",
            "==============\n",
            "3 x 1 = 3\n",
            "3 x 2 = 6\n",
            "3 x 3 = 9\n",
            "3 x 4 = 12\n",
            "3 x 5 = 15\n",
            "3 x 6 = 18\n",
            "3 x 7 = 21\n",
            "3 x 8 = 24\n",
            "3 x 9 = 27\n",
            "3 x 10 = 30\n",
            "==============\n",
            "4 x 1 = 4\n",
            "4 x 2 = 8\n",
            "4 x 3 = 12\n",
            "4 x 4 = 16\n",
            "4 x 5 = 20\n",
            "4 x 6 = 24\n",
            "4 x 7 = 28\n",
            "4 x 8 = 32\n",
            "4 x 9 = 36\n",
            "4 x 10 = 40\n",
            "==============\n",
            "5 x 1 = 5\n",
            "5 x 2 = 10\n",
            "5 x 3 = 15\n",
            "5 x 4 = 20\n",
            "5 x 5 = 25\n",
            "5 x 6 = 30\n",
            "5 x 7 = 35\n",
            "5 x 8 = 40\n",
            "5 x 9 = 45\n",
            "5 x 10 = 50\n",
            "==============\n",
            "6 x 1 = 6\n",
            "6 x 2 = 12\n",
            "6 x 3 = 18\n",
            "6 x 4 = 24\n",
            "6 x 5 = 30\n",
            "6 x 6 = 36\n",
            "6 x 7 = 42\n",
            "6 x 8 = 48\n",
            "6 x 9 = 54\n",
            "6 x 10 = 60\n",
            "==============\n",
            "7 x 1 = 7\n",
            "7 x 2 = 14\n",
            "7 x 3 = 21\n",
            "7 x 4 = 28\n",
            "7 x 5 = 35\n",
            "7 x 6 = 42\n",
            "7 x 7 = 49\n",
            "7 x 8 = 56\n",
            "7 x 9 = 63\n",
            "7 x 10 = 70\n",
            "==============\n",
            "8 x 1 = 8\n",
            "8 x 2 = 16\n",
            "8 x 3 = 24\n",
            "8 x 4 = 32\n",
            "8 x 5 = 40\n",
            "8 x 6 = 48\n",
            "8 x 7 = 56\n",
            "8 x 8 = 64\n",
            "8 x 9 = 72\n",
            "8 x 10 = 80\n",
            "==============\n",
            "9 x 1 = 9\n",
            "9 x 2 = 18\n",
            "9 x 3 = 27\n",
            "9 x 4 = 36\n",
            "9 x 5 = 45\n",
            "9 x 6 = 54\n",
            "9 x 7 = 63\n",
            "9 x 8 = 72\n",
            "9 x 9 = 81\n",
            "9 x 10 = 90\n",
            "==============\n",
            "10 x 1 = 10\n",
            "10 x 2 = 20\n",
            "10 x 3 = 30\n",
            "10 x 4 = 40\n",
            "10 x 5 = 50\n",
            "10 x 6 = 60\n",
            "10 x 7 = 70\n",
            "10 x 8 = 80\n",
            "10 x 9 = 90\n",
            "10 x 10 = 100\n",
            "==============\n"
          ]
        }
      ]
    },
    {
      "cell_type": "code",
      "source": [
        "for i in range(1,11):\n",
        "  if i ==4:\n",
        "    break\n",
        "  print(i)"
      ],
      "metadata": {
        "colab": {
          "base_uri": "https://localhost:8080/"
        },
        "id": "JKe6iGh1KY2G",
        "outputId": "37f8eab4-0c76-4687-c0eb-f74fb5a4208d"
      },
      "execution_count": 89,
      "outputs": [
        {
          "output_type": "stream",
          "name": "stdout",
          "text": [
            "1\n",
            "2\n",
            "3\n"
          ]
        }
      ]
    },
    {
      "cell_type": "code",
      "source": [
        "i=1\n",
        "while i <= 10:\n",
        "  if i==4:\n",
        "    break\n",
        "  print(i)\n",
        "  i +=1"
      ],
      "metadata": {
        "colab": {
          "base_uri": "https://localhost:8080/"
        },
        "id": "V9jYzkDYLR1C",
        "outputId": "49993723-8413-45e5-d277-fae0a1eaeb73"
      },
      "execution_count": 92,
      "outputs": [
        {
          "output_type": "stream",
          "name": "stdout",
          "text": [
            "1\n",
            "2\n",
            "3\n"
          ]
        }
      ]
    },
    {
      "cell_type": "code",
      "source": [
        "for i in range(1,11):\n",
        "  if i ==4:\n",
        "    continue\n",
        "  print(i)"
      ],
      "metadata": {
        "id": "JR7MqLBQK4pE"
      },
      "execution_count": null,
      "outputs": []
    }
  ]
}